{
 "cells": [
  {
   "cell_type": "code",
   "execution_count": 1520,
   "metadata": {},
   "outputs": [],
   "source": [
    "import findspark\n",
    "findspark.init('/home/ek/spark-2.4.4-bin-hadoop2.7')\n",
    "import pyspark\n",
    "import os\n",
    "java8_location= '/usr/lib/jvm/java-8-openjdk-amd64' # Set your own\n",
    "os.environ['JAVA_HOME'] = java8_location\n",
    "from pyspark.sql.functions import udf\n",
    "from IPython.display import Image"
   ]
  },
  {
   "cell_type": "code",
   "execution_count": 1589,
   "metadata": {},
   "outputs": [],
   "source": [
    "from pyspark.sql import SparkSession\n",
    "from pyspark.mllib.evaluation import RegressionMetrics\n",
    "import math"
   ]
  },
  {
   "cell_type": "code",
   "execution_count": 1522,
   "metadata": {},
   "outputs": [],
   "source": [
    "spark = SparkSession.builder.appName('HW').getOrCreate()"
   ]
  },
  {
   "cell_type": "markdown",
   "metadata": {},
   "source": [
    "### II Linear Regression"
   ]
  },
  {
   "cell_type": "code",
   "execution_count": 1449,
   "metadata": {},
   "outputs": [],
   "source": [
    "import numpy as np\n",
    "from sklearn.preprocessing import StandardScaler\n",
    "from sklearn.model_selection import train_test_split"
   ]
  },
  {
   "cell_type": "code",
   "execution_count": 1466,
   "metadata": {},
   "outputs": [],
   "source": [
    "N_EXAMPLES = 1000\n",
    "DIM = 15"
   ]
  },
  {
   "cell_type": "code",
   "execution_count": 1467,
   "metadata": {},
   "outputs": [],
   "source": [
    "def generate_data(scaled):\n",
    "    real_weights = np.random.randn(DIM)\n",
    "    X = np.random.randn(N_EXAMPLES)\n",
    "    X = np.tile(X,DIM).reshape(DIM,N_EXAMPLES)\n",
    "    for i in range(DIM):\n",
    "        X[i]=X[i]**i\n",
    "    X = X.T\n",
    "    if scaled:\n",
    "        scaler = StandardScaler()\n",
    "        X = scaler.fit_transform(X)\n",
    "    y = X@real_weights\n",
    "    X_tr, X_te, y_tr, y_te = train_test_split(X,y,test_size = 0.2)\n",
    "    return X_tr, X_te, y_tr, y_te"
   ]
  },
  {
   "cell_type": "code",
   "execution_count": 1468,
   "metadata": {},
   "outputs": [],
   "source": [
    "X_tr, X_te, y_tr, y_te = generate_data(True)"
   ]
  },
  {
   "cell_type": "code",
   "execution_count": 1474,
   "metadata": {},
   "outputs": [],
   "source": [
    "X_tr_US, X_te_US, y_tr_US, y_te_US = generate_data(False)"
   ]
  },
  {
   "cell_type": "code",
   "execution_count": 1495,
   "metadata": {},
   "outputs": [],
   "source": [
    "class LinearRegressionMMD():\n",
    "    def __init__(self, dimensions = DIM):\n",
    "        self.weights = np.random.rand(dimensions)\n",
    "        print(self.weights.shape)\n",
    "    def predict(self, inputs):\n",
    "        return inputs@self.weights        \n",
    "    \n",
    "    def score(self, y_true, predictions):\n",
    "        errors = y_true-predictions\n",
    "        return errors , np.mean(errors**2)\n",
    "    \n",
    "    def compute_gradient(self, errors, inputs, scale_gradient, loss_function):\n",
    "        if loss_function == 'MSE':\n",
    "            gradient = -np.mean(errors[:,None]*inputs,0)\n",
    "        else:\n",
    "            gradient = -np.sum(errors[:,None]*inputs,0)\n",
    "        if scale_gradient:\n",
    "            return gradient/np.linalg.norm(gradient) \n",
    "        else:\n",
    "            return gradient\n",
    "        \n",
    "    def update_weights(self, gradient,lr):\n",
    "        self.weights-=lr*gradient\n",
    "    \n",
    "    def fit(self,inputs, y_true, epochs, scale_gradient, batch_size,lr, loss_function,verbose):\n",
    "        for epoch in range(epochs):\n",
    "            random_idx = np.random.permutation(range(0,N_EXAMPLES))\n",
    "            epoch_loss = 0\n",
    "            for i in range(epochs//batch_size):\n",
    "                predictions = self.predict(inputs[i*batch_size:i*batch_size+batch_size])\n",
    "                errors,loss = self.score(y_true[i*batch_size:i*batch_size+batch_size],\n",
    "                                         predictions)\n",
    "                gradient = self.compute_gradient(errors,\n",
    "                                           inputs[i*batch_size:i*batch_size+batch_size],\n",
    "                                           scale_gradient,\n",
    "                                           loss_function)\n",
    "                self.update_weights(gradient,lr)\n",
    "                epoch_loss += loss\n",
    "            if verbose:\n",
    "                print('traning loss for {} epoch: {}'.format(epoch,epoch_loss/(epochs//batch_size)))"
   ]
  },
  {
   "cell_type": "code",
   "execution_count": 1511,
   "metadata": {},
   "outputs": [
    {
     "name": "stdout",
     "output_type": "stream",
     "text": [
      "(15,)\n",
      "test loss:  0.00847582649645226\n"
     ]
    }
   ],
   "source": [
    "model = LinearRegressionMMD()\n",
    "model.fit(X_tr, y_tr,700, True, 32, lr = 0.001,loss_function='MSE',verbose=False)\n",
    "_, loss = model.score(model.predict(X_te),y_te)\n",
    "print('test loss: ', loss)"
   ]
  },
  {
   "cell_type": "code",
   "execution_count": 1512,
   "metadata": {},
   "outputs": [
    {
     "name": "stdout",
     "output_type": "stream",
     "text": [
      "(15,)\n",
      "test loss:  0.015951388503102057\n"
     ]
    }
   ],
   "source": [
    "model = LinearRegressionMMD()\n",
    "model.fit(X_tr, y_tr,700, True, 32, lr = 0.001,loss_function='SSE',verbose=False)\n",
    "_, loss = model.score(model.predict(X_te),y_te)\n",
    "print('test loss: ', loss)"
   ]
  },
  {
   "cell_type": "code",
   "execution_count": 1513,
   "metadata": {},
   "outputs": [
    {
     "name": "stdout",
     "output_type": "stream",
     "text": [
      "(15,)\n",
      "test loss:  0.16913282257406767\n"
     ]
    }
   ],
   "source": [
    "model = LinearRegressionMMD()\n",
    "# without gradient scaling\n",
    "model.fit(X_tr, y_tr,700, False, 32, lr = 0.001,loss_function='MSE',verbose=False)\n",
    "_, loss = model.score(model.predict(X_te),y_te)\n",
    "print('test loss: ', loss)"
   ]
  },
  {
   "cell_type": "code",
   "execution_count": 1514,
   "metadata": {},
   "outputs": [
    {
     "name": "stdout",
     "output_type": "stream",
     "text": [
      "(15,)\n",
      "test loss:  0.013134794693781746\n"
     ]
    }
   ],
   "source": [
    "model = LinearRegressionMMD()\n",
    "# without gradient scaling\n",
    "model.fit(X_tr, y_tr,400, False, 32, lr = 0.001,loss_function='SSE',verbose=False)\n",
    "_, loss = model.score(model.predict(X_te),y_te)\n",
    "print('test loss: ', loss)"
   ]
  },
  {
   "cell_type": "code",
   "execution_count": 1517,
   "metadata": {},
   "outputs": [
    {
     "name": "stdout",
     "output_type": "stream",
     "text": [
      "(15,)\n",
      "test loss:  62394869501.81195\n"
     ]
    }
   ],
   "source": [
    "# try without scaling of the data\n",
    "model = LinearRegressionMMD()\n",
    "model.fit(X_tr_US, y_tr_US,700, True, 32, lr = 0.001,loss_function='SSE',verbose=False)\n",
    "_, loss = model.score(model.predict(X_te_US),y_te_US)\n",
    "print('test loss: ', loss)"
   ]
  },
  {
   "cell_type": "code",
   "execution_count": 1516,
   "metadata": {},
   "outputs": [
    {
     "name": "stdout",
     "output_type": "stream",
     "text": [
      "(15,)\n",
      "test loss:  nan\n"
     ]
    },
    {
     "name": "stderr",
     "output_type": "stream",
     "text": [
      "/home/ek/.local/lib/python3.6/site-packages/ipykernel_launcher.py:10: RuntimeWarning: overflow encountered in square\n",
      "  # Remove the CWD from sys.path while we load stuff.\n",
      "/home/ek/.local/lib/python3.6/site-packages/ipykernel_launcher.py:6: RuntimeWarning: overflow encountered in matmul\n",
      "  \n",
      "/home/ek/.local/lib/python3.6/site-packages/ipykernel_launcher.py:16: RuntimeWarning: overflow encountered in multiply\n",
      "  app.launch_new_instance()\n",
      "/home/ek/.local/lib/python3.6/site-packages/numpy/core/fromnumeric.py:90: RuntimeWarning: invalid value encountered in reduce\n",
      "  return ufunc.reduce(obj, axis, dtype, out, **passkwargs)\n"
     ]
    }
   ],
   "source": [
    "# try without scaling of the data\n",
    "model = LinearRegressionMMD()\n",
    "# without scaling of the gradients\n",
    "model.fit(X_tr_US, y_tr_US,700, False, 32, lr = 0.001,loss_function='SSE',verbose=False)\n",
    "_, loss = model.score(model.predict(X_te_US),y_te_US)\n",
    "print('test loss: ', loss)"
   ]
  },
  {
   "cell_type": "code",
   "execution_count": 1572,
   "metadata": {},
   "outputs": [],
   "source": [
    "from pyspark.mllib.recommendation import Rating, ALS, MatrixFactorizationModel"
   ]
  },
  {
   "cell_type": "code",
   "execution_count": 1562,
   "metadata": {},
   "outputs": [],
   "source": [
    "dataset = spark.sparkContext.textFile('movielens.txt')"
   ]
  },
  {
   "cell_type": "code",
   "execution_count": 1563,
   "metadata": {},
   "outputs": [
    {
     "data": {
      "text/plain": [
       "[Rating(user=196, product=242, rating=3.0),\n",
       " Rating(user=186, product=302, rating=3.0),\n",
       " Rating(user=22, product=377, rating=1.0),\n",
       " Rating(user=244, product=51, rating=2.0)]"
      ]
     },
     "execution_count": 1563,
     "metadata": {},
     "output_type": "execute_result"
    }
   ],
   "source": [
    "dataset = dataset.map(lambda x: x.split('\\t')[:-1]).map(lambda x: Rating(\n",
    "                                                        int(x[0]),\n",
    "                                                        int(x[1]),\n",
    "                                                        float(x[2])))\n",
    "dataset.take(4)"
   ]
  },
  {
   "cell_type": "markdown",
   "metadata": {},
   "source": [
    "### train test split"
   ]
  },
  {
   "cell_type": "code",
   "execution_count": 1568,
   "metadata": {},
   "outputs": [],
   "source": [
    "train, test = dataset.randomSplit((0.5,0.5))"
   ]
  },
  {
   "cell_type": "markdown",
   "metadata": {},
   "source": [
    "### train model"
   ]
  },
  {
   "cell_type": "code",
   "execution_count": 1570,
   "metadata": {},
   "outputs": [],
   "source": [
    "model = ALS.train(train,rank = 10, iterations = 5)"
   ]
  },
  {
   "cell_type": "code",
   "execution_count": 1571,
   "metadata": {},
   "outputs": [],
   "source": [
    "model.save(spark.sparkContext,'recomm')"
   ]
  },
  {
   "cell_type": "code",
   "execution_count": 1573,
   "metadata": {},
   "outputs": [],
   "source": [
    "model = MatrixFactorizationModel.load(spark.sparkContext,'recomm')"
   ]
  },
  {
   "cell_type": "code",
   "execution_count": 1575,
   "metadata": {},
   "outputs": [],
   "source": [
    "test_data =test.map(lambda x: (x.user, x.product))"
   ]
  },
  {
   "cell_type": "code",
   "execution_count": 1576,
   "metadata": {},
   "outputs": [
    {
     "data": {
      "text/plain": [
       "[(196, 242), (186, 302), (22, 377)]"
      ]
     },
     "execution_count": 1576,
     "metadata": {},
     "output_type": "execute_result"
    }
   ],
   "source": [
    "test_data.take(3)"
   ]
  },
  {
   "cell_type": "code",
   "execution_count": 1577,
   "metadata": {},
   "outputs": [],
   "source": [
    "predictions = model.predictAll(test_data).map(lambda r: ((r.user, r.product), r.rating))"
   ]
  },
  {
   "cell_type": "code",
   "execution_count": 1578,
   "metadata": {},
   "outputs": [
    {
     "data": {
      "text/plain": [
       "[((280, 384), 3.390801714156854),\n",
       " ((497, 384), 2.360212608578044),\n",
       " ((545, 384), 3.298583416232403),\n",
       " ((393, 384), 3.170307394341294),\n",
       " ((682, 384), 2.3789953109099895)]"
      ]
     },
     "execution_count": 1578,
     "metadata": {},
     "output_type": "execute_result"
    }
   ],
   "source": [
    "predictions.take(5)"
   ]
  },
  {
   "cell_type": "code",
   "execution_count": 1580,
   "metadata": {},
   "outputs": [],
   "source": [
    "ratings_real= test.map(lambda r: ((r.user, r.product), r.rating))"
   ]
  },
  {
   "cell_type": "code",
   "execution_count": 1581,
   "metadata": {},
   "outputs": [
    {
     "data": {
      "text/plain": [
       "[((196, 242), 3.0),\n",
       " ((186, 302), 3.0),\n",
       " ((22, 377), 1.0),\n",
       " ((166, 346), 1.0),\n",
       " ((115, 265), 2.0)]"
      ]
     },
     "execution_count": 1581,
     "metadata": {},
     "output_type": "execute_result"
    }
   ],
   "source": [
    "ratings_real.take(5)"
   ]
  },
  {
   "cell_type": "code",
   "execution_count": 1586,
   "metadata": {},
   "outputs": [],
   "source": [
    "scoreAndLabels = predictions.join(ratings_real).map(lambda x: x[1]) # get only the rating (without the user-user pairs)"
   ]
  },
  {
   "cell_type": "code",
   "execution_count": 1587,
   "metadata": {},
   "outputs": [
    {
     "data": {
      "text/plain": [
       "[(3.4902253287579152, 5.0),\n",
       " (2.7327856832552953, 3.0),\n",
       " (2.939121335387544, 4.0),\n",
       " (6.093582030546673, 5.0),\n",
       " (3.1502591140591343, 4.0)]"
      ]
     },
     "execution_count": 1587,
     "metadata": {},
     "output_type": "execute_result"
    }
   ],
   "source": [
    "scoreAndLabels.take(5)"
   ]
  },
  {
   "cell_type": "code",
   "execution_count": 1590,
   "metadata": {},
   "outputs": [],
   "source": [
    "metrics = RegressionMetrics(scoreAndLabels)"
   ]
  },
  {
   "cell_type": "code",
   "execution_count": 1591,
   "metadata": {},
   "outputs": [
    {
     "data": {
      "text/plain": [
       "1.4369439311564367"
      ]
     },
     "execution_count": 1591,
     "metadata": {},
     "output_type": "execute_result"
    }
   ],
   "source": [
    "metrics.meanSquaredError"
   ]
  },
  {
   "cell_type": "code",
   "execution_count": null,
   "metadata": {},
   "outputs": [],
   "source": []
  }
 ],
 "metadata": {
  "kernelspec": {
   "display_name": "Python 3",
   "language": "python",
   "name": "python3"
  },
  "language_info": {
   "codemirror_mode": {
    "name": "ipython",
    "version": 3
   },
   "file_extension": ".py",
   "mimetype": "text/x-python",
   "name": "python",
   "nbconvert_exporter": "python",
   "pygments_lexer": "ipython3",
   "version": "3.6.8"
  }
 },
 "nbformat": 4,
 "nbformat_minor": 2
}
