{
 "cells": [
  {
   "cell_type": "code",
   "execution_count": 1,
   "metadata": {},
   "outputs": [],
   "source": [
    "import findspark\n",
    "findspark.init('/home/ek/spark-2.4.4-bin-hadoop2.7')\n",
    "import pyspark\n",
    "import os\n",
    "java8_location= '/usr/lib/jvm/java-8-openjdk-amd64' # Set your own\n",
    "os.environ['JAVA_HOME'] = java8_location\n",
    "from pyspark.sql.functions import udf\n",
    "from IPython.display import Image\n",
    "from pyspark.sql.types import (StructField,StringType,IntegerType,StructType)"
   ]
  },
  {
   "cell_type": "code",
   "execution_count": 2,
   "metadata": {},
   "outputs": [],
   "source": [
    "from pyspark.sql import SparkSession"
   ]
  },
  {
   "cell_type": "markdown",
   "metadata": {},
   "source": [
    "##### Start Spark session"
   ]
  },
  {
   "cell_type": "code",
   "execution_count": 3,
   "metadata": {},
   "outputs": [],
   "source": [
    "spark = SparkSession.builder.appName('HW').getOrCreate()"
   ]
  },
  {
   "cell_type": "code",
   "execution_count": 4,
   "metadata": {},
   "outputs": [],
   "source": [
    "spark.conf.set('spark.sql.shuffle.partitions',6)"
   ]
  },
  {
   "cell_type": "markdown",
   "metadata": {},
   "source": [
    "###### Create my own user for the exercise "
   ]
  },
  {
   "cell_type": "code",
   "execution_count": 5,
   "metadata": {},
   "outputs": [
    {
     "name": "stdout",
     "output_type": "stream",
     "text": [
      "+------+--------+------+\n",
      "|userId|artistId|rating|\n",
      "+------+--------+------+\n",
      "|    12| 1002470|   150|\n",
      "|    12| 1000113|   150|\n",
      "|    12|    1270|   150|\n",
      "|    12| 1250104|   150|\n",
      "|    12| 1000010|   150|\n",
      "|    12|    3985|   150|\n",
      "|    12|    1196|   150|\n",
      "|    12| 2078915|     1|\n",
      "|    12| 1000200|     1|\n",
      "|    12|    4163|     1|\n",
      "|    12|    1399|     1|\n",
      "+------+--------+------+\n",
      "\n"
     ]
    }
   ],
   "source": [
    "artists = [1002470, 1000113, 1270, 1250104, 1000010, 3985, 1196, 2078915, 1000200, 4163, 1399]\n",
    "\n",
    "preferences = []\n",
    "for i,artist in enumerate(artists):\n",
    "    if i >=7:\n",
    "        preferences.append((12,artist,1))\n",
    "    else:\n",
    "        preferences.append((12,artist,150))\n",
    "\n",
    "preferences_RDD = spark.sparkContext.parallelize(preferences)\n",
    "data_schema = [StructField('userId',IntegerType(),True),\n",
    "               StructField('artistId',IntegerType(),True),\n",
    "              StructField('rating',IntegerType(),True)]\n",
    "preferences_DF = preferences_RDD.toDF(StructType(data_schema))\n",
    "\n",
    "preferences_DF.show()"
   ]
  },
  {
   "cell_type": "markdown",
   "metadata": {},
   "source": [
    "##### Load the data"
   ]
  },
  {
   "cell_type": "code",
   "execution_count": 6,
   "metadata": {},
   "outputs": [],
   "source": [
    "data_df = spark.read.csv('dataset-problemset2-ex5/user_artist_data_small.txt',\n",
    "                        sep = ' ',\n",
    "                        inferSchema = True)"
   ]
  },
  {
   "cell_type": "code",
   "execution_count": 7,
   "metadata": {},
   "outputs": [],
   "source": [
    "data_df = data_df.withColumnRenamed('_c0','userId')\\\n",
    "                 .withColumnRenamed('_c1','artistId')\\\n",
    "                 .withColumnRenamed('_c2','rating')"
   ]
  },
  {
   "cell_type": "code",
   "execution_count": 8,
   "metadata": {},
   "outputs": [
    {
     "data": {
      "text/plain": [
       "49481"
      ]
     },
     "execution_count": 8,
     "metadata": {},
     "output_type": "execute_result"
    }
   ],
   "source": [
    "data_df.count()"
   ]
  },
  {
   "cell_type": "code",
   "execution_count": 9,
   "metadata": {},
   "outputs": [
    {
     "name": "stdout",
     "output_type": "stream",
     "text": [
      "+-------+--------+------+\n",
      "| userId|artistId|rating|\n",
      "+-------+--------+------+\n",
      "|1059637| 1000010|   238|\n",
      "|1059637| 1000049|     1|\n",
      "|1059637| 1000056|     1|\n",
      "|1059637| 1000062|    11|\n",
      "|1059637| 1000094|     1|\n",
      "+-------+--------+------+\n",
      "only showing top 5 rows\n",
      "\n"
     ]
    }
   ],
   "source": [
    "data_df.show(5)"
   ]
  },
  {
   "cell_type": "code",
   "execution_count": 10,
   "metadata": {},
   "outputs": [],
   "source": [
    "data_df = data_df.union(preferences_DF)"
   ]
  },
  {
   "cell_type": "code",
   "execution_count": 11,
   "metadata": {},
   "outputs": [],
   "source": [
    "correct_artists_df = spark.read.csv('dataset-problemset2-ex5/artist_alias_small.txt',\n",
    "                        sep = '\\t',\n",
    "                        inferSchema = True)"
   ]
  },
  {
   "cell_type": "code",
   "execution_count": 12,
   "metadata": {},
   "outputs": [],
   "source": [
    "correct_artists_df = correct_artists_df.withColumnRenamed('_c0','falseId')\\\n",
    "                     .withColumnRenamed('_c1','correctId')"
   ]
  },
  {
   "cell_type": "code",
   "execution_count": 13,
   "metadata": {},
   "outputs": [
    {
     "name": "stdout",
     "output_type": "stream",
     "text": [
      "+-------+---------+\n",
      "|falseId|correctId|\n",
      "+-------+---------+\n",
      "|1027859|  1252408|\n",
      "|1017615|      668|\n",
      "|6745885|  1268522|\n",
      "|1018110|  1018110|\n",
      "|1014609|  1014609|\n",
      "+-------+---------+\n",
      "only showing top 5 rows\n",
      "\n"
     ]
    }
   ],
   "source": [
    "correct_artists_df.show(5)"
   ]
  },
  {
   "cell_type": "code",
   "execution_count": 14,
   "metadata": {},
   "outputs": [],
   "source": [
    "correct_artists_df.createOrReplaceTempView('correct_artists')"
   ]
  },
  {
   "cell_type": "code",
   "execution_count": 15,
   "metadata": {},
   "outputs": [],
   "source": [
    "data_df.createOrReplaceTempView('full_data')"
   ]
  },
  {
   "cell_type": "markdown",
   "metadata": {},
   "source": [
    "##### Preprocess the data"
   ]
  },
  {
   "cell_type": "code",
   "execution_count": 16,
   "metadata": {},
   "outputs": [
    {
     "data": {
      "image/png": "[encoded data removed]",
      "text/plain": [
       "<IPython.core.display.Image object>"
      ]
     },
     "execution_count": 16,
     "metadata": {},
     "output_type": "execute_result"
    }
   ],
   "source": [
    "Image(filename='Downloads/foj.png')"
   ]
  },
  {
   "cell_type": "markdown",
   "metadata": {},
   "source": [
    "We need to carry out a full outer join on the falseId column of the correct_artists table and the artistId column of the full_data table in order not to lose information but still match the relevant rows"
   ]
  },
  {
   "cell_type": "code",
   "execution_count": 17,
   "metadata": {},
   "outputs": [],
   "source": [
    "joined_df = spark.sql(\"\"\"SELECT * FROM full_data\n",
    "                         FULL OUTER JOIN correct_artists \n",
    "                         ON correct_artists.falseId == full_data.artistId\"\"\")"
   ]
  },
  {
   "cell_type": "code",
   "execution_count": 18,
   "metadata": {},
   "outputs": [
    {
     "name": "stdout",
     "output_type": "stream",
     "text": [
      "+-------+--------+------+-------+---------+\n",
      "| userId|artistId|rating|falseId|correctId|\n",
      "+-------+--------+------+-------+---------+\n",
      "|1059637|       2|     3|   null|     null|\n",
      "|1046559|       2|   155|   null|     null|\n",
      "|1031009|       2|   436|   null|     null|\n",
      "|2020513|       2|   846|   null|     null|\n",
      "|1001440|       2|  1541|   null|     null|\n",
      "+-------+--------+------+-------+---------+\n",
      "only showing top 5 rows\n",
      "\n"
     ]
    }
   ],
   "source": [
    "joined_df.show(5)"
   ]
  },
  {
   "cell_type": "code",
   "execution_count": 19,
   "metadata": {},
   "outputs": [
    {
     "data": {
      "text/plain": [
       "49492"
      ]
     },
     "execution_count": 19,
     "metadata": {},
     "output_type": "execute_result"
    }
   ],
   "source": [
    "joined_df.count()"
   ]
  },
  {
   "cell_type": "markdown",
   "metadata": {},
   "source": [
    "Updating row values is not implemented in pyspark so we need to create a new column which holds the info we need : namely the correct artistId. To create this column we need to define a UDF which will return the values of the correctId column if they are not null and the values of the current artistId column where the correctId is null"
   ]
  },
  {
   "cell_type": "code",
   "execution_count": 20,
   "metadata": {},
   "outputs": [],
   "source": [
    "def swap_values_udf(correct,false):\n",
    "    if correct==None:\n",
    "        return false\n",
    "    else:\n",
    "        return correct"
   ]
  },
  {
   "cell_type": "code",
   "execution_count": 21,
   "metadata": {},
   "outputs": [],
   "source": [
    "swap_udf = udf(swap_values_udf)"
   ]
  },
  {
   "cell_type": "code",
   "execution_count": 22,
   "metadata": {},
   "outputs": [],
   "source": [
    "joined_df = joined_df.withColumn('swapped',swap_udf(joined_df['correctId'],joined_df['artistId']))"
   ]
  },
  {
   "cell_type": "code",
   "execution_count": 23,
   "metadata": {},
   "outputs": [
    {
     "name": "stdout",
     "output_type": "stream",
     "text": [
      "+-------+--------+------+-------+---------+-------+\n",
      "| userId|artistId|rating|falseId|correctId|swapped|\n",
      "+-------+--------+------+-------+---------+-------+\n",
      "|1059637|       2|     3|   null|     null|      2|\n",
      "|1046559|       2|   155|   null|     null|      2|\n",
      "|1031009|       2|   436|   null|     null|      2|\n",
      "|2020513|       2|   846|   null|     null|      2|\n",
      "|1001440|       2|  1541|   null|     null|      2|\n",
      "+-------+--------+------+-------+---------+-------+\n",
      "only showing top 5 rows\n",
      "\n"
     ]
    }
   ],
   "source": [
    "joined_df.show(5) # make sure the function does what we want it to do"
   ]
  },
  {
   "cell_type": "code",
   "execution_count": 24,
   "metadata": {},
   "outputs": [],
   "source": [
    "dataset_df = joined_df.select(['userId','rating','swapped']).withColumnRenamed('swapped','artistId')"
   ]
  },
  {
   "cell_type": "code",
   "execution_count": 25,
   "metadata": {},
   "outputs": [
    {
     "name": "stdout",
     "output_type": "stream",
     "text": [
      "+-------+------+--------+\n",
      "| userId|rating|artistId|\n",
      "+-------+------+--------+\n",
      "|1059637|     3|       2|\n",
      "|1046559|   155|       2|\n",
      "|1031009|   436|       2|\n",
      "|2020513|   846|       2|\n",
      "|1001440|  1541|       2|\n",
      "+-------+------+--------+\n",
      "only showing top 5 rows\n",
      "\n"
     ]
    }
   ],
   "source": [
    "dataset_df.show(5)"
   ]
  },
  {
   "cell_type": "code",
   "execution_count": 26,
   "metadata": {},
   "outputs": [
    {
     "data": {
      "text/plain": [
       "49492"
      ]
     },
     "execution_count": 26,
     "metadata": {},
     "output_type": "execute_result"
    }
   ],
   "source": [
    "dataset_df.count()"
   ]
  },
  {
   "cell_type": "code",
   "execution_count": 27,
   "metadata": {},
   "outputs": [
    {
     "name": "stdout",
     "output_type": "stream",
     "text": [
      "root\n",
      " |-- userId: integer (nullable = true)\n",
      " |-- artistId: integer (nullable = true)\n",
      " |-- rating: integer (nullable = true)\n",
      "\n"
     ]
    }
   ],
   "source": [
    "data_df.printSchema()"
   ]
  },
  {
   "cell_type": "code",
   "execution_count": 28,
   "metadata": {},
   "outputs": [],
   "source": [
    "dataset_df.createOrReplaceTempView('dds')"
   ]
  },
  {
   "cell_type": "markdown",
   "metadata": {},
   "source": [
    "take care of the repetitions by summing the ratings where the artistIds are equal"
   ]
  },
  {
   "cell_type": "code",
   "execution_count": 29,
   "metadata": {},
   "outputs": [
    {
     "name": "stdout",
     "output_type": "stream",
     "text": [
      "+-------+------+--------+\n",
      "| userId|rating|artistId|\n",
      "+-------+------+--------+\n",
      "|1007308|    72| 1034635|\n",
      "|1007308|   187| 1034635|\n",
      "+-------+------+--------+\n",
      "\n"
     ]
    }
   ],
   "source": [
    "spark.sql('select * from dds where userId == 1007308 and artistId==1034635').show(1000)"
   ]
  },
  {
   "cell_type": "code",
   "execution_count": 30,
   "metadata": {},
   "outputs": [
    {
     "name": "stdout",
     "output_type": "stream",
     "text": [
      "+-------+--------+-----------+\n",
      "| userId|artistId|sum(rating)|\n",
      "+-------+--------+-----------+\n",
      "|1007308| 1034635|        259|\n",
      "+-------+--------+-----------+\n",
      "\n"
     ]
    }
   ],
   "source": [
    "spark.sql('select * from (select userId, artistId,sum(rating) from dds where group by userId,artistId) as b where b.userId == 1007308 and b.artistId==1034635').show(1000)"
   ]
  },
  {
   "cell_type": "markdown",
   "metadata": {},
   "source": [
    "##### End of Preprocessing : dataset_df is the final preprocessed dataset "
   ]
  },
  {
   "cell_type": "code",
   "execution_count": 31,
   "metadata": {},
   "outputs": [],
   "source": [
    "dataset_df = spark.sql('select * from (select userId, artistId,sum(rating) as rating from dds where group by userId,artistId) as b').persist()"
   ]
  },
  {
   "cell_type": "code",
   "execution_count": 32,
   "metadata": {},
   "outputs": [
    {
     "name": "stdout",
     "output_type": "stream",
     "text": [
      "+-------+--------+------+\n",
      "| userId|artistId|rating|\n",
      "+-------+--------+------+\n",
      "|1059637|       2|     3|\n",
      "|1070641|       2|   115|\n",
      "|1052054|       2|   416|\n",
      "+-------+--------+------+\n",
      "only showing top 3 rows\n",
      "\n"
     ]
    }
   ],
   "source": [
    "dataset_df.show(3)"
   ]
  },
  {
   "cell_type": "code",
   "execution_count": 33,
   "metadata": {},
   "outputs": [
    {
     "data": {
      "text/plain": [
       "6"
      ]
     },
     "execution_count": 33,
     "metadata": {},
     "output_type": "execute_result"
    }
   ],
   "source": [
    "dataset_df.rdd.getNumPartitions()"
   ]
  },
  {
   "cell_type": "code",
   "execution_count": 34,
   "metadata": {},
   "outputs": [],
   "source": [
    "dataset_df.createOrReplaceTempView('dataset_df')"
   ]
  },
  {
   "cell_type": "markdown",
   "metadata": {},
   "source": [
    "### Colaborative Filtering"
   ]
  },
  {
   "cell_type": "code",
   "execution_count": 35,
   "metadata": {},
   "outputs": [],
   "source": [
    "dataset_avg = dataset_df.select(['userId','rating']).groupBy('userId').agg({'rating':'avg'}).persist()"
   ]
  },
  {
   "cell_type": "code",
   "execution_count": 36,
   "metadata": {},
   "outputs": [
    {
     "name": "stdout",
     "output_type": "stream",
     "text": [
      "+-------+------------------+\n",
      "| userId|       avg(rating)|\n",
      "+-------+------------------+\n",
      "|2070757| 528.3850574712644|\n",
      "|2288164| 319.7368421052632|\n",
      "|1058890|160.91013071895424|\n",
      "|1007308|203.18032786885246|\n",
      "|1059334|13.781849315068493|\n",
      "+-------+------------------+\n",
      "only showing top 5 rows\n",
      "\n"
     ]
    }
   ],
   "source": [
    "dataset_avg.show(5)"
   ]
  },
  {
   "cell_type": "code",
   "execution_count": 37,
   "metadata": {},
   "outputs": [],
   "source": [
    "dataset_final_df = dataset_df.join(dataset_avg, on = 'userId')"
   ]
  },
  {
   "cell_type": "code",
   "execution_count": 38,
   "metadata": {},
   "outputs": [
    {
     "name": "stdout",
     "output_type": "stream",
     "text": [
      "root\n",
      " |-- userId: integer (nullable = true)\n",
      " |-- artistId: string (nullable = true)\n",
      " |-- rating: long (nullable = true)\n",
      " |-- avg(rating): double (nullable = true)\n",
      "\n"
     ]
    }
   ],
   "source": [
    "dataset_final_df.printSchema()"
   ]
  },
  {
   "cell_type": "code",
   "execution_count": 39,
   "metadata": {},
   "outputs": [
    {
     "name": "stdout",
     "output_type": "stream",
     "text": [
      "+-------+--------+------+------------------+\n",
      "| userId|artistId|rating|       avg(rating)|\n",
      "+-------+--------+------+------------------+\n",
      "|1059637|       2|     3|1878.5849582172702|\n",
      "|1070641|       2|   115|103.90555555555555|\n",
      "|1052054|       2|   416| 182.6338028169014|\n",
      "|1046559|      18|    21|172.25842696629215|\n",
      "|1059245|      18|     1| 79.32122213047069|\n",
      "+-------+--------+------+------------------+\n",
      "only showing top 5 rows\n",
      "\n"
     ]
    }
   ],
   "source": [
    "dataset_final_df.show(5)"
   ]
  },
  {
   "cell_type": "code",
   "execution_count": 40,
   "metadata": {},
   "outputs": [
    {
     "data": {
      "text/plain": [
       "48954"
      ]
     },
     "execution_count": 40,
     "metadata": {},
     "output_type": "execute_result"
    }
   ],
   "source": [
    "dataset_final_df.count() # as we see now we have less rows : because there are no duplicates"
   ]
  },
  {
   "cell_type": "code",
   "execution_count": 41,
   "metadata": {},
   "outputs": [],
   "source": [
    "dataset_final_df=dataset_final_df.na.drop()"
   ]
  },
  {
   "cell_type": "code",
   "execution_count": 42,
   "metadata": {},
   "outputs": [],
   "source": [
    "dataset_final_df = dataset_final_df.withColumn('new',dataset_final_df['artistId'].cast('int'))\\\n",
    "                .drop('artistId')\\\n",
    "                .withColumnRenamed('new','artistId')"
   ]
  },
  {
   "cell_type": "code",
   "execution_count": 43,
   "metadata": {},
   "outputs": [
    {
     "name": "stdout",
     "output_type": "stream",
     "text": [
      "root\n",
      " |-- userId: integer (nullable = true)\n",
      " |-- rating: long (nullable = true)\n",
      " |-- avg(rating): double (nullable = true)\n",
      " |-- artistId: integer (nullable = true)\n",
      "\n"
     ]
    }
   ],
   "source": [
    "dataset_final_df.printSchema()"
   ]
  },
  {
   "cell_type": "code",
   "execution_count": 44,
   "metadata": {},
   "outputs": [
    {
     "data": {
      "image/png": "[encoded data removed]",
      "text/plain": [
       "<IPython.core.display.Image object>"
      ]
     },
     "execution_count": 44,
     "metadata": {},
     "output_type": "execute_result"
    }
   ],
   "source": [
    "Image(filename='Pictures/calculating_weights.png')"
   ]
  },
  {
   "cell_type": "markdown",
   "metadata": {},
   "source": [
    "##### Center the data"
   ]
  },
  {
   "cell_type": "code",
   "execution_count": 45,
   "metadata": {},
   "outputs": [],
   "source": [
    "dataset_final_df = dataset_final_df.withColumn('centered_rating'\n",
    "                            ,dataset_final_df['rating']-dataset_final_df['avg(rating)'])\n",
    "                            "
   ]
  },
  {
   "cell_type": "code",
   "execution_count": 46,
   "metadata": {},
   "outputs": [
    {
     "name": "stdout",
     "output_type": "stream",
     "text": [
      "+-------+------+------------------+--------+-------------------+\n",
      "| userId|rating|       avg(rating)|artistId|    centered_rating|\n",
      "+-------+------+------------------+--------+-------------------+\n",
      "|1059637|     3|1878.5849582172702|       2|-1875.5849582172702|\n",
      "|1070641|   115|103.90555555555555|       2| 11.094444444444449|\n",
      "|1052054|   416| 182.6338028169014|       2|  233.3661971830986|\n",
      "|1046559|    21|172.25842696629215|      18|-151.25842696629215|\n",
      "|1059245|     1| 79.32122213047069|      18| -78.32122213047069|\n",
      "+-------+------+------------------+--------+-------------------+\n",
      "only showing top 5 rows\n",
      "\n"
     ]
    }
   ],
   "source": [
    "dataset_final_df.show(5)"
   ]
  },
  {
   "cell_type": "code",
   "execution_count": 47,
   "metadata": {},
   "outputs": [],
   "source": [
    "check_df = dataset_final_df"
   ]
  },
  {
   "cell_type": "code",
   "execution_count": 48,
   "metadata": {},
   "outputs": [
    {
     "data": {
      "text/plain": [
       "48954"
      ]
     },
     "execution_count": 48,
     "metadata": {},
     "output_type": "execute_result"
    }
   ],
   "source": [
    "dataset_final_df.count()"
   ]
  },
  {
   "cell_type": "code",
   "execution_count": 49,
   "metadata": {},
   "outputs": [
    {
     "name": "stdout",
     "output_type": "stream",
     "text": [
      "root\n",
      " |-- userId: integer (nullable = true)\n",
      " |-- rating: long (nullable = true)\n",
      " |-- avg(rating): double (nullable = true)\n",
      " |-- artistId: integer (nullable = true)\n",
      " |-- centered_rating: double (nullable = true)\n",
      "\n"
     ]
    }
   ],
   "source": [
    "dataset_final_df.printSchema()"
   ]
  },
  {
   "cell_type": "code",
   "execution_count": 50,
   "metadata": {},
   "outputs": [],
   "source": [
    "dataset_final_df = dataset_final_df.drop('rating')\\\n",
    "                      .withColumnRenamed('avg(rating)','avg_rating')\\\n",
    "                      .join(dataset_final_df\\\n",
    "                      .drop('rating')\\\n",
    "                      .withColumnRenamed('centered_rating','centered_rating2')\n",
    "                      .withColumnRenamed('userId','userId2')\n",
    "                      .withColumnRenamed('avg(rating)','avg_rating2')\n",
    "                      ,on = 'artistId').filter('userId!=userId2').persist()"
   ]
  },
  {
   "cell_type": "code",
   "execution_count": 51,
   "metadata": {},
   "outputs": [
    {
     "name": "stdout",
     "output_type": "stream",
     "text": [
      "root\n",
      " |-- artistId: integer (nullable = true)\n",
      " |-- userId: integer (nullable = true)\n",
      " |-- avg_rating: double (nullable = true)\n",
      " |-- centered_rating: double (nullable = true)\n",
      " |-- userId2: integer (nullable = true)\n",
      " |-- avg_rating2: double (nullable = true)\n",
      " |-- centered_rating2: double (nullable = true)\n",
      "\n"
     ]
    }
   ],
   "source": [
    "dataset_final_df.printSchema()"
   ]
  },
  {
   "cell_type": "code",
   "execution_count": 52,
   "metadata": {},
   "outputs": [],
   "source": [
    "dataset_final_df.createOrReplaceTempView('dataset')"
   ]
  },
  {
   "cell_type": "markdown",
   "metadata": {},
   "source": [
    "#### Normalize the data"
   ]
  },
  {
   "cell_type": "markdown",
   "metadata": {},
   "source": [
    "Normalize the ratings for each user-user pair. Divide the centered_ratings for each user-user pair by the magnitude of the vector for that user-user pair. The normalized_U1 field holds the normalized ratings of userId. We have to implement simple matrix multiplication for those pairs."
   ]
  },
  {
   "cell_type": "code",
   "execution_count": 53,
   "metadata": {},
   "outputs": [],
   "source": [
    "dataset_final_df = spark.sql('''SELECT artistId, userId,  userId2_l,\n",
    "             centered_rating/magnitude1 AS normalized_U1,\n",
    "             centered_rating2/magnitude2 AS normalized_U2\n",
    "             FROM \n",
    "             (SELECT           userId,\n",
    "                               artistId, \n",
    "                               userId2,\n",
    "                               centered_rating,\n",
    "                               centered_rating2\n",
    "                               FROM dataset) AS dataset \n",
    "             INNER JOIN \n",
    "             -- calculate magnitude of the utility matrix row for each user-user pair\n",
    "             (SELECT           userId as userId_l, \n",
    "                               userId2 as userId2_l, \n",
    "                               SQRT(SUM(POWER(centered_rating,2))) AS magnitude1,\n",
    "                               SQRT(SUM(POWER(centered_rating2,2))) AS magnitude2 \n",
    "                               FROM dataset group BY userId,userId2)\n",
    "             AS lengths \n",
    "              ON (dataset.userId==lengths.userId_l and dataset.userId2==lengths.userId2_l)''').persist() # normalize the vector elements for each user by dividing them by the length of the vector"
   ]
  },
  {
   "cell_type": "code",
   "execution_count": 54,
   "metadata": {},
   "outputs": [
    {
     "name": "stdout",
     "output_type": "stream",
     "text": [
      "+--------+------+---------+-------------------+--------------------+\n",
      "|artistId|userId|userId2_l|      normalized_U1|       normalized_U2|\n",
      "+--------+------+---------+-------------------+--------------------+\n",
      "|    4163|    12|  1009943|-0.7777777777777777|  -0.717082557479818|\n",
      "| 1000010|    12|  1009943| 0.4444444444444444|-0.49284511043440593|\n",
      "|    1270|    12|  1009943| 0.4444444444444444|-0.49284511043440593|\n",
      "|    1270|    12|  1021501|                1.0|                -1.0|\n",
      "| 1000113|    12|  1026084| 0.3321819194149599|  0.9842955983529055|\n",
      "+--------+------+---------+-------------------+--------------------+\n",
      "only showing top 5 rows\n",
      "\n"
     ]
    }
   ],
   "source": [
    "dataset_final_df.show(5)"
   ]
  },
  {
   "cell_type": "code",
   "execution_count": 55,
   "metadata": {},
   "outputs": [],
   "source": [
    "dataset_final_df.createOrReplaceTempView('dataset')"
   ]
  },
  {
   "cell_type": "markdown",
   "metadata": {},
   "source": [
    "#### Calculate Pearson correlation\n",
    "cary out vector multiplication based on each user-user pair (pairwize multiplication and sum)"
   ]
  },
  {
   "cell_type": "code",
   "execution_count": 56,
   "metadata": {},
   "outputs": [],
   "source": [
    "cosine_similarities = spark.sql(\"\"\"SELECT\n",
    "                                  userId, \n",
    "                                  userId2_l AS userId2, \n",
    "                                  SUM(normalized_U1*normalized_U2) AS pearson_correlation \n",
    "                                  FROM dataset GROUP BY userId,userId2_l\"\"\").persist()"
   ]
  },
  {
   "cell_type": "code",
   "execution_count": 57,
   "metadata": {},
   "outputs": [
    {
     "name": "stdout",
     "output_type": "stream",
     "text": [
      "+------+-------+-------------------+\n",
      "|userId|userId2|pearson_correlation|\n",
      "+------+-------+-------------------+\n",
      "|    12|1009943| 0.1196463354314975|\n",
      "|    12|1021501|               -1.0|\n",
      "|    12|1026084| 0.2828235518174722|\n",
      "|    12|2023742|                1.0|\n",
      "|    12|2023977|                1.0|\n",
      "+------+-------+-------------------+\n",
      "only showing top 5 rows\n",
      "\n"
     ]
    }
   ],
   "source": [
    "cosine_similarities.show(5)"
   ]
  },
  {
   "cell_type": "code",
   "execution_count": 58,
   "metadata": {},
   "outputs": [],
   "source": [
    "cosine_similarities.createOrReplaceTempView('cosine')"
   ]
  },
  {
   "cell_type": "markdown",
   "metadata": {},
   "source": [
    "##### Get predictions"
   ]
  },
  {
   "cell_type": "code",
   "execution_count": 59,
   "metadata": {},
   "outputs": [],
   "source": [
    "def most_similar(id_,k=25):\n",
    "    most_similar_df = spark.sql('select userId2, pearson_correlation from cosine where userId =={} order by pearson_correlation desc limit({})'.format(id_,k))\n",
    "    return most_similar_df"
   ]
  },
  {
   "cell_type": "code",
   "execution_count": 60,
   "metadata": {},
   "outputs": [],
   "source": [
    "most_similar = most_similar(12,30)"
   ]
  },
  {
   "cell_type": "code",
   "execution_count": 61,
   "metadata": {},
   "outputs": [
    {
     "name": "stdout",
     "output_type": "stream",
     "text": [
      "+-------+-------------------+\n",
      "|userId2|pearson_correlation|\n",
      "+-------+-------------------+\n",
      "|2023742|                1.0|\n",
      "|2023977|                1.0|\n",
      "|2030069|                1.0|\n",
      "|2069337|                1.0|\n",
      "|1059245| 0.9999056515736351|\n",
      "|1076906| 0.9604127314111832|\n",
      "|1035511| 0.7445086131260299|\n",
      "|1017610| 0.7105055601087813|\n",
      "|2014936| 0.6953649880396114|\n",
      "|1000647|  0.640928211497134|\n",
      "|1029563| 0.6227218445426362|\n",
      "|1052461| 0.5378675946282395|\n",
      "|1001440|0.49808371185376143|\n",
      "|2062243| 0.4204621232853993|\n",
      "|1031009|0.41696658260808805|\n",
      "|2007381| 0.4065275670745998|\n",
      "|1048402| 0.3854557829312444|\n",
      "|2070757|  0.349927750626236|\n",
      "|1024631| 0.3268411271274031|\n",
      "|1041919| 0.3156273116879044|\n",
      "+-------+-------------------+\n",
      "only showing top 20 rows\n",
      "\n"
     ]
    }
   ],
   "source": [
    "most_similar.show()"
   ]
  },
  {
   "cell_type": "markdown",
   "metadata": {},
   "source": [
    "1. get the most 30 most similar users"
   ]
  },
  {
   "cell_type": "code",
   "execution_count": 62,
   "metadata": {},
   "outputs": [],
   "source": [
    "most_similar.createOrReplaceTempView('most_similar')"
   ]
  },
  {
   "cell_type": "code",
   "execution_count": 63,
   "metadata": {},
   "outputs": [],
   "source": [
    "check_df.withColumnRenamed('avg(rating)','avg_rating').persist().createOrReplaceTempView('check_df')\n"
   ]
  },
  {
   "cell_type": "markdown",
   "metadata": {},
   "source": [
    "2 Multiply each ot the k-nearest neighbors' ratings by the weight (cosine similarity) of that neighbor w.r.t. the user U "
   ]
  },
  {
   "cell_type": "code",
   "execution_count": 64,
   "metadata": {},
   "outputs": [],
   "source": [
    "most_similar_preferences = spark.sql('''select userId,\n",
    "             artistId,\n",
    "             pearson_correlation*centered_rating as weighted,\n",
    "             pearson_correlation\n",
    "             from check_df \n",
    "             inner join most_similar \n",
    "             on check_df.userId==most_similar.userId2''').persist() # get the preferences of the K most similar"
   ]
  },
  {
   "cell_type": "code",
   "execution_count": 65,
   "metadata": {},
   "outputs": [
    {
     "name": "stdout",
     "output_type": "stream",
     "text": [
      "+-------+--------+-------------------+-------------------+\n",
      "| userId|artistId|           weighted|pearson_correlation|\n",
      "+-------+--------+-------------------+-------------------+\n",
      "|1059637|       2| -551.4271215023415|0.29400274249718283|\n",
      "|1046559|      18|  -46.7640327819857|0.30916646245704404|\n",
      "|1059245|      18|  -78.3138326464117| 0.9999056515736351|\n",
      "|1024631|      45| -5.873321714025265| 0.3268411271274031|\n",
      "|2023686|      59|0.34746586193662776|0.15053732131701886|\n",
      "+-------+--------+-------------------+-------------------+\n",
      "only showing top 5 rows\n",
      "\n"
     ]
    }
   ],
   "source": [
    "most_similar_preferences.show(5)"
   ]
  },
  {
   "cell_type": "code",
   "execution_count": 66,
   "metadata": {},
   "outputs": [],
   "source": [
    "most_similar_preferences.createOrReplaceTempView('most_similar')"
   ]
  },
  {
   "cell_type": "markdown",
   "metadata": {},
   "source": [
    "3 Get predictions for U but only where he has not already rated the artist"
   ]
  },
  {
   "cell_type": "code",
   "execution_count": 67,
   "metadata": {
    "scrolled": true
   },
   "outputs": [],
   "source": [
    "most_similar_preferences_personalized = spark.sql(\"\"\"\n",
    "select artistId,userId,userId_U,weighted,rating,pearson_correlation from most_similar\n",
    "full outer join\n",
    "(select userId as userId_U,rating, artistId as artistId_2 from check_df where userId=={}) as check_df\n",
    "on most_similar.artistId==check_df.artistId_2\n",
    "\"\"\".format(12))"
   ]
  },
  {
   "cell_type": "code",
   "execution_count": 68,
   "metadata": {},
   "outputs": [
    {
     "name": "stdout",
     "output_type": "stream",
     "text": [
      "+--------+-------+--------+-------------------+------+-------------------+\n",
      "|artistId| userId|userId_U|           weighted|rating|pearson_correlation|\n",
      "+--------+-------+--------+-------------------+------+-------------------+\n",
      "|       2|1059637|    null| -551.4271215023415|  null|0.29400274249718283|\n",
      "|       2|1026084|    null|  320.4510536178026|  null| 0.2828235518174722|\n",
      "|       2|1041919|    null| 471.03768571542884|  null| 0.3156273116879044|\n",
      "|       2|1001440|    null|  739.6336268828944|  null|0.49808371185376143|\n",
      "|       2|1048402|    null|-37.822848700128354|  null| 0.3854557829312444|\n",
      "+--------+-------+--------+-------------------+------+-------------------+\n",
      "only showing top 5 rows\n",
      "\n"
     ]
    }
   ],
   "source": [
    "most_similar_preferences_personalized.show(5)"
   ]
  },
  {
   "cell_type": "code",
   "execution_count": 69,
   "metadata": {},
   "outputs": [],
   "source": [
    "most_similar_preferences_personalized.createOrReplaceTempView('most_similar_personalized')"
   ]
  },
  {
   "cell_type": "markdown",
   "metadata": {},
   "source": [
    "#### FINAL RECOMMENDATIONS FOR U (ordered)"
   ]
  },
  {
   "cell_type": "code",
   "execution_count": 70,
   "metadata": {},
   "outputs": [
    {
     "name": "stdout",
     "output_type": "stream",
     "text": [
      "+--------+-------------------+------------------------+\n",
      "|artistId|centered_prediction|sum(pearson_correlation)|\n",
      "+--------+-------------------+------------------------+\n",
      "| 6901343| 25902.816711590298|      0.4204621232853993|\n",
      "| 1002095|  23077.64339098501|       5.509783070443343|\n",
      "| 1000156| 14520.110586139623|      1.7682673686022778|\n",
      "|    2823| 10804.158245019164|      4.6778954099173395|\n",
      "| 1026440|  10338.37871036022|       4.600760757335854|\n",
      "+--------+-------------------+------------------------+\n",
      "only showing top 5 rows\n",
      "\n"
     ]
    }
   ],
   "source": [
    "spark.sql(\"\"\"\n",
    "(select artistId, sum(weighted)/sum(pearson_correlation) as centered_prediction, sum(pearson_correlation)\n",
    "from most_similar_personalized\n",
    "where userId_U is null\n",
    "group by artistId)\n",
    "order by centered_prediction desc\n",
    "\"\"\").show(5)"
   ]
  },
  {
   "cell_type": "markdown",
   "metadata": {},
   "source": [
    "It predicted some rock singers and it actually got a group I like in the predictions!!! (to my utter surprize) \n",
    "1026440\tMy Chemical Romance"
   ]
  },
  {
   "cell_type": "raw",
   "metadata": {},
   "source": [
    "1002470\tElton John\n",
    "1000113\tThe Beatles\n",
    "1270\tQueen\n",
    "1250104\tFrédéric Chopin\n",
    "1000010\tAerosmith\n",
    "3985\tPaul McCartney\n",
    "1196\tElvis Presley\n",
    "2078915\tLuther Vandross & Beyonce Knowles\n",
    "1000200\tAlicia Keys\n",
    "4163\tBritney Spears\n",
    "1399\tMadonna"
   ]
  },
  {
   "cell_type": "code",
   "execution_count": null,
   "metadata": {},
   "outputs": [],
   "source": []
  },
  {
   "cell_type": "code",
   "execution_count": null,
   "metadata": {},
   "outputs": [],
   "source": []
  },
  {
   "cell_type": "code",
   "execution_count": null,
   "metadata": {},
   "outputs": [],
   "source": []
  }
 ],
 "metadata": {
  "kernelspec": {
   "display_name": "Python 3",
   "language": "python",
   "name": "python3"
  },
  "language_info": {
   "codemirror_mode": {
    "name": "ipython",
    "version": 3
   },
   "file_extension": ".py",
   "mimetype": "text/x-python",
   "name": "python",
   "nbconvert_exporter": "python",
   "pygments_lexer": "ipython3",
   "version": "3.6.8"
  }
 },
 "nbformat": 4,
 "nbformat_minor": 2
}
