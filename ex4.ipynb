{
 "cells": [
  {
   "cell_type": "code",
   "execution_count": 1,
   "metadata": {},
   "outputs": [],
   "source": [
    "import findspark\n",
    "findspark.init('/home/ek/spark-2.4.4-bin-hadoop2.7')\n",
    "import pyspark\n",
    "import os\n",
    "java8_location= '/usr/lib/jvm/java-8-openjdk-amd64' # Set your own\n",
    "os.environ['JAVA_HOME'] = java8_location\n",
    "from pyspark.sql.functions import udf\n",
    "from IPython.display import Image\n",
    "from collections import deque"
   ]
  },
  {
   "cell_type": "code",
   "execution_count": 2,
   "metadata": {},
   "outputs": [],
   "source": [
    "from pyspark.sql import SparkSession"
   ]
  },
  {
   "cell_type": "code",
   "execution_count": 3,
   "metadata": {},
   "outputs": [],
   "source": [
    "spark = SparkSession.builder.appName('HW').getOrCreate()\n",
    "spark.conf.set('spark.sql.shuffle.partitions',6)"
   ]
  },
  {
   "cell_type": "markdown",
   "metadata": {},
   "source": [
    "Structure of the data : FromNodeId\tToNodeId"
   ]
  },
  {
   "cell_type": "code",
   "execution_count": 4,
   "metadata": {},
   "outputs": [],
   "source": [
    "dataset = spark.sparkContext.textFile('web-Stanford_small.txt')\\\n",
    "                            .filter(lambda x: x[0]!='#')\\\n",
    "                            .map(lambda x: x.split('\\t'))\n",
    "# the structure of the data is now toNode: fromNode"
   ]
  },
  {
   "cell_type": "code",
   "execution_count": 5,
   "metadata": {},
   "outputs": [],
   "source": [
    "from_to = dataset.map(lambda x: (int(x[0]),int(x[1])))"
   ]
  },
  {
   "cell_type": "code",
   "execution_count": 6,
   "metadata": {},
   "outputs": [
    {
     "data": {
      "text/plain": [
       "198"
      ]
     },
     "execution_count": 6,
     "metadata": {},
     "output_type": "execute_result"
    }
   ],
   "source": [
    "from_to.groupByKey().count() #number of nodes that point to another node"
   ]
  },
  {
   "cell_type": "code",
   "execution_count": 7,
   "metadata": {},
   "outputs": [],
   "source": [
    "def explode(row):\n",
    "    for k in row:\n",
    "        yield k"
   ]
  },
  {
   "cell_type": "code",
   "execution_count": 8,
   "metadata": {},
   "outputs": [],
   "source": [
    "all_nodes = dataset.flatMap(explode).distinct().map(lambda x: (int(x),None)).persist()"
   ]
  },
  {
   "cell_type": "code",
   "execution_count": 9,
   "metadata": {},
   "outputs": [
    {
     "data": {
      "text/plain": [
       "1587"
      ]
     },
     "execution_count": 9,
     "metadata": {},
     "output_type": "execute_result"
    }
   ],
   "source": [
    "all_nodes.count() # total number of nodes"
   ]
  },
  {
   "cell_type": "code",
   "execution_count": 10,
   "metadata": {},
   "outputs": [],
   "source": [
    "from_to = all_nodes.leftOuterJoin(from_to).map(lambda x: (x[0],x[1][1]))"
   ]
  },
  {
   "cell_type": "code",
   "execution_count": 11,
   "metadata": {},
   "outputs": [
    {
     "data": {
      "text/plain": [
       "[(98628, 2), (204604, 2), (241596, 2), (78056, None), (182456, None)]"
      ]
     },
     "execution_count": 11,
     "metadata": {},
     "output_type": "execute_result"
    }
   ],
   "source": [
    "from_to.take(5)"
   ]
  },
  {
   "cell_type": "code",
   "execution_count": 12,
   "metadata": {},
   "outputs": [],
   "source": [
    "def check(x):\n",
    "    for i in x:\n",
    "        if i is not None:\n",
    "            return True"
   ]
  },
  {
   "cell_type": "code",
   "execution_count": 13,
   "metadata": {},
   "outputs": [],
   "source": [
    "from_to = from_to.groupByKey()\\\n",
    "                .map(lambda x: (x[0],(len(x[1]),list(x[1]))) if check(x[1])\\\n",
    "                     else (x[0],(0,[])))"
   ]
  },
  {
   "cell_type": "code",
   "execution_count": 14,
   "metadata": {},
   "outputs": [
    {
     "data": {
      "text/plain": [
       "[(98628, (1, [2])),\n",
       " (204604, (1, [2])),\n",
       " (241596, (1, [2])),\n",
       " (78056, (0, [])),\n",
       " (182456, (0, [])),\n",
       " (28140, (0, [])),\n",
       " (47352, (0, [])),\n",
       " (192120, (0, [])),\n",
       " (215600, (0, [])),\n",
       " (4, (4, [35716, 96512, 186750, 225872]))]"
      ]
     },
     "execution_count": 14,
     "metadata": {},
     "output_type": "execute_result"
    }
   ],
   "source": [
    "from_to.take(10)"
   ]
  },
  {
   "cell_type": "code",
   "execution_count": 15,
   "metadata": {},
   "outputs": [],
   "source": [
    "N_NODES = all_nodes.count()"
   ]
  },
  {
   "cell_type": "code",
   "execution_count": 25,
   "metadata": {},
   "outputs": [],
   "source": [
    "page_rank = all_nodes.map(lambda x: (x[0],[1/N_NODES,0])) # [0] is the old [1] is the new"
   ]
  },
  {
   "cell_type": "code",
   "execution_count": 26,
   "metadata": {},
   "outputs": [
    {
     "data": {
      "text/plain": [
       "[(1, [0.000630119722747322, 0]),\n",
       " (15409, [0.000630119722747322, 0]),\n",
       " (17794, [0.000630119722747322, 0]),\n",
       " (25202, [0.000630119722747322, 0]),\n",
       " (53625, [0.000630119722747322, 0])]"
      ]
     },
     "execution_count": 26,
     "metadata": {},
     "output_type": "execute_result"
    }
   ],
   "source": [
    "page_rank.take(5)"
   ]
  },
  {
   "cell_type": "code",
   "execution_count": 27,
   "metadata": {},
   "outputs": [],
   "source": [
    "page_rank = dict(page_rank.collect())"
   ]
  },
  {
   "cell_type": "code",
   "execution_count": 28,
   "metadata": {},
   "outputs": [],
   "source": [
    "transition_matrix = dict(from_to.collect())"
   ]
  },
  {
   "cell_type": "code",
   "execution_count": 29,
   "metadata": {},
   "outputs": [],
   "source": [
    "taxation_hyperparameter = 0.8"
   ]
  },
  {
   "cell_type": "code",
   "execution_count": 30,
   "metadata": {},
   "outputs": [],
   "source": [
    "def total_sum_of_ratings(t = 1):\n",
    "    c=0\n",
    "    for i in page_rank.items():\n",
    "        c+=i[1][t]\n",
    "    return c"
   ]
  },
  {
   "cell_type": "code",
   "execution_count": 31,
   "metadata": {},
   "outputs": [],
   "source": [
    "def calculate_page_rank(taxation_hyperparameter, epochs):\n",
    "    for _ in range(epochs):\n",
    "        total_sum = 0\n",
    "        for node in transition_matrix.keys():\n",
    "            #print('Node: ',node)\n",
    "            #print('outdegree: ',transition_matrix[node][0])\n",
    "            for successor in transition_matrix[node][1]:\n",
    "                #print('Successor: ', successor)\n",
    "                try:\n",
    "                    page_rank[successor][1] += taxation_hyperparameter*\\\n",
    "                                            page_rank[node][0]/transition_matrix[node][0]\n",
    "                    #print(page_rank[successor][1])\n",
    "                    #break\n",
    "                except ZeroDivisionError:\n",
    "                    page_rank[successor][1] += 0\n",
    "           # break\n",
    "        # update:\n",
    "        total_sum = total_sum_of_ratings()\n",
    "        for node in page_rank.keys():\n",
    "            page_rank[node][0] = page_rank[node][1] + (1-total_sum)/N_NODES\n",
    "            page_rank[node][1] = 0\n",
    "        #break"
   ]
  },
  {
   "cell_type": "code",
   "execution_count": 32,
   "metadata": {},
   "outputs": [],
   "source": [
    "calculate_page_rank(taxation_hyperparameter, 5)"
   ]
  },
  {
   "cell_type": "code",
   "execution_count": 33,
   "metadata": {},
   "outputs": [
    {
     "data": {
      "text/plain": [
       "0.9999999999999939"
      ]
     },
     "execution_count": 33,
     "metadata": {},
     "output_type": "execute_result"
    }
   ],
   "source": [
    "total_sum_of_ratings(0) "
   ]
  }
 ],
 "metadata": {
  "kernelspec": {
   "display_name": "Python 3",
   "language": "python",
   "name": "python3"
  },
  "language_info": {
   "codemirror_mode": {
    "name": "ipython",
    "version": 3
   },
   "file_extension": ".py",
   "mimetype": "text/x-python",
   "name": "python",
   "nbconvert_exporter": "python",
   "pygments_lexer": "ipython3",
   "version": "3.6.8"
  }
 },
 "nbformat": 4,
 "nbformat_minor": 2
}
